{
  "nbformat": 4,
  "nbformat_minor": 0,
  "metadata": {
    "colab": {
      "name": "OPM_NN_Forecasting.ipynb",
      "provenance": [],
      "collapsed_sections": [],
      "toc_visible": true
    },
    "kernelspec": {
      "name": "python3",
      "display_name": "Python 3"
    }
  },
  "cells": [
    {
      "cell_type": "markdown",
      "metadata": {
        "id": "rs86KOp2npzq"
      },
      "source": [
        "# Demand forecasting using Neural Networks in Google Colab"
      ]
    },
    {
      "cell_type": "markdown",
      "metadata": {
        "id": "KAIDtuN4kjfU"
      },
      "source": [
        "**Importing libraries - Tensorflow, Pandas, Matplotlib etc.**"
      ]
    },
    {
      "cell_type": "code",
      "metadata": {
        "id": "tY3KljheKAre"
      },
      "source": [
        "from google.colab import drive\n",
        "drive.mount('/gdrive')\n",
        "%cd /gdrive"
      ],
      "execution_count": null,
      "outputs": []
    },
    {
      "cell_type": "code",
      "metadata": {
        "id": "_OSp-BNTfbjN"
      },
      "source": [
        "from __future__ import absolute_import, division, print_function, unicode_literals\n",
        "\n",
        "import pathlib\n",
        "\n",
        "import matplotlib.pyplot as plt\n",
        "import pandas as pd\n",
        "import io\n",
        "import seaborn as sns\n",
        "\n",
        "try:\n",
        "  # %tensorflow_version only exists in Colab.\n",
        "  %tensorflow_version 2.x\n",
        "except Exception:\n",
        "  pass\n",
        "import tensorflow as tf\n",
        "\n",
        "from tensorflow import keras\n",
        "from tensorflow.keras import layers"
      ],
      "execution_count": null,
      "outputs": []
    },
    {
      "cell_type": "markdown",
      "metadata": {
        "id": "m-xeKkFSktxC"
      },
      "source": [
        "# Importing data from Google drive, and appending table headers"
      ]
    },
    {
      "cell_type": "code",
      "metadata": {
        "id": "Ebjb4N4LgoKa",
        "outputId": "13f01246-45ea-4a17-f851-0f0c3fe59986",
        "colab": {
          "base_uri": "https://localhost:8080/",
          "height": 204
        }
      },
      "source": [
        "dataset_path = \"/content/drive/My Drive/Submission/OPM/OPMdata.xlsx\"\n",
        "dataset_path\n",
        "\n",
        "column_names = ['x0','x1','x2','x3','x4','x5','x6','x7','x8','x9','x10','x11','x12','Y']\n",
        "raw_dataset = pd.read_excel(dataset_path, names=column_names,\n",
        "                      na_values = \"?\", comment='\\t',\n",
        "                      sep=\" \", skipinitialspace=True)\n",
        "\n",
        "dataset = raw_dataset.copy()\n",
        "dataset.tail()"
      ],
      "execution_count": null,
      "outputs": [
        {
          "output_type": "execute_result",
          "data": {
            "text/html": [
              "<div>\n",
              "<style scoped>\n",
              "    .dataframe tbody tr th:only-of-type {\n",
              "        vertical-align: middle;\n",
              "    }\n",
              "\n",
              "    .dataframe tbody tr th {\n",
              "        vertical-align: top;\n",
              "    }\n",
              "\n",
              "    .dataframe thead th {\n",
              "        text-align: right;\n",
              "    }\n",
              "</style>\n",
              "<table border=\"1\" class=\"dataframe\">\n",
              "  <thead>\n",
              "    <tr style=\"text-align: right;\">\n",
              "      <th></th>\n",
              "      <th>x0</th>\n",
              "      <th>x1</th>\n",
              "      <th>x2</th>\n",
              "      <th>x3</th>\n",
              "      <th>x4</th>\n",
              "      <th>x5</th>\n",
              "      <th>x6</th>\n",
              "      <th>x7</th>\n",
              "      <th>x8</th>\n",
              "      <th>x9</th>\n",
              "      <th>x10</th>\n",
              "      <th>x11</th>\n",
              "      <th>x12</th>\n",
              "      <th>Y</th>\n",
              "    </tr>\n",
              "  </thead>\n",
              "  <tbody>\n",
              "    <tr>\n",
              "      <th>54</th>\n",
              "      <td>56</td>\n",
              "      <td>0</td>\n",
              "      <td>0</td>\n",
              "      <td>0</td>\n",
              "      <td>0</td>\n",
              "      <td>0</td>\n",
              "      <td>0</td>\n",
              "      <td>0</td>\n",
              "      <td>1</td>\n",
              "      <td>0</td>\n",
              "      <td>0</td>\n",
              "      <td>0</td>\n",
              "      <td>0</td>\n",
              "      <td>1591</td>\n",
              "    </tr>\n",
              "    <tr>\n",
              "      <th>55</th>\n",
              "      <td>57</td>\n",
              "      <td>0</td>\n",
              "      <td>0</td>\n",
              "      <td>0</td>\n",
              "      <td>0</td>\n",
              "      <td>0</td>\n",
              "      <td>0</td>\n",
              "      <td>0</td>\n",
              "      <td>0</td>\n",
              "      <td>1</td>\n",
              "      <td>0</td>\n",
              "      <td>0</td>\n",
              "      <td>0</td>\n",
              "      <td>471</td>\n",
              "    </tr>\n",
              "    <tr>\n",
              "      <th>56</th>\n",
              "      <td>58</td>\n",
              "      <td>0</td>\n",
              "      <td>0</td>\n",
              "      <td>0</td>\n",
              "      <td>0</td>\n",
              "      <td>0</td>\n",
              "      <td>0</td>\n",
              "      <td>0</td>\n",
              "      <td>0</td>\n",
              "      <td>0</td>\n",
              "      <td>1</td>\n",
              "      <td>0</td>\n",
              "      <td>0</td>\n",
              "      <td>300</td>\n",
              "    </tr>\n",
              "    <tr>\n",
              "      <th>57</th>\n",
              "      <td>59</td>\n",
              "      <td>0</td>\n",
              "      <td>0</td>\n",
              "      <td>0</td>\n",
              "      <td>0</td>\n",
              "      <td>0</td>\n",
              "      <td>0</td>\n",
              "      <td>0</td>\n",
              "      <td>0</td>\n",
              "      <td>0</td>\n",
              "      <td>0</td>\n",
              "      <td>1</td>\n",
              "      <td>0</td>\n",
              "      <td>300</td>\n",
              "    </tr>\n",
              "    <tr>\n",
              "      <th>58</th>\n",
              "      <td>60</td>\n",
              "      <td>0</td>\n",
              "      <td>0</td>\n",
              "      <td>0</td>\n",
              "      <td>0</td>\n",
              "      <td>0</td>\n",
              "      <td>0</td>\n",
              "      <td>0</td>\n",
              "      <td>0</td>\n",
              "      <td>0</td>\n",
              "      <td>0</td>\n",
              "      <td>0</td>\n",
              "      <td>1</td>\n",
              "      <td>283</td>\n",
              "    </tr>\n",
              "  </tbody>\n",
              "</table>\n",
              "</div>"
            ],
            "text/plain": [
              "    x0  x1  x2  x3  x4  x5  x6  x7  x8  x9  x10  x11  x12     Y\n",
              "54  56   0   0   0   0   0   0   0   1   0    0    0    0  1591\n",
              "55  57   0   0   0   0   0   0   0   0   1    0    0    0   471\n",
              "56  58   0   0   0   0   0   0   0   0   0    1    0    0   300\n",
              "57  59   0   0   0   0   0   0   0   0   0    0    1    0   300\n",
              "58  60   0   0   0   0   0   0   0   0   0    0    0    1   283"
            ]
          },
          "metadata": {
            "tags": []
          },
          "execution_count": 34
        }
      ]
    },
    {
      "cell_type": "markdown",
      "metadata": {
        "id": "U1dR5J-Vk_Xg"
      },
      "source": [
        "# Selecting training and test data, and indicating dependent variable"
      ]
    },
    {
      "cell_type": "code",
      "metadata": {
        "id": "3dKygdMCgpy2"
      },
      "source": [
        "train_dataset = dataset.iloc[0:46]\n",
        "test_dataset = dataset.iloc[47:60]"
      ],
      "execution_count": null,
      "outputs": []
    },
    {
      "cell_type": "code",
      "metadata": {
        "id": "IiLo7nSUgrfX"
      },
      "source": [
        "train_stats = train_dataset.describe()\n",
        "train_stats.pop(\"Y\")\n",
        "train_stats = train_stats.transpose()"
      ],
      "execution_count": null,
      "outputs": []
    },
    {
      "cell_type": "code",
      "metadata": {
        "id": "F1Qbsy8cgtEq"
      },
      "source": [
        "train_labels = train_dataset.pop('Y')\n",
        "test_labels = test_dataset.pop('Y')"
      ],
      "execution_count": null,
      "outputs": []
    },
    {
      "cell_type": "markdown",
      "metadata": {
        "id": "TZhIwoMHlTws"
      },
      "source": [
        "# Normalizing data"
      ]
    },
    {
      "cell_type": "code",
      "metadata": {
        "id": "ceuolXQtgvCw",
        "outputId": "66e2d5e5-3933-463f-b5d3-a439d479ad08",
        "colab": {
          "base_uri": "https://localhost:8080/",
          "height": 421
        }
      },
      "source": [
        "def norm(x):\n",
        "  return (x - train_stats['mean']) / train_stats['std']\n",
        "normed_train_data = norm(train_dataset)\n",
        "normed_test_data = norm(test_dataset)\n",
        "normed_test_data"
      ],
      "execution_count": null,
      "outputs": [
        {
          "output_type": "execute_result",
          "data": {
            "text/html": [
              "<div>\n",
              "<style scoped>\n",
              "    .dataframe tbody tr th:only-of-type {\n",
              "        vertical-align: middle;\n",
              "    }\n",
              "\n",
              "    .dataframe tbody tr th {\n",
              "        vertical-align: top;\n",
              "    }\n",
              "\n",
              "    .dataframe thead th {\n",
              "        text-align: right;\n",
              "    }\n",
              "</style>\n",
              "<table border=\"1\" class=\"dataframe\">\n",
              "  <thead>\n",
              "    <tr style=\"text-align: right;\">\n",
              "      <th></th>\n",
              "      <th>x0</th>\n",
              "      <th>x1</th>\n",
              "      <th>x2</th>\n",
              "      <th>x3</th>\n",
              "      <th>x4</th>\n",
              "      <th>x5</th>\n",
              "      <th>x6</th>\n",
              "      <th>x7</th>\n",
              "      <th>x8</th>\n",
              "      <th>x9</th>\n",
              "      <th>x10</th>\n",
              "      <th>x11</th>\n",
              "      <th>x12</th>\n",
              "    </tr>\n",
              "  </thead>\n",
              "  <tbody>\n",
              "    <tr>\n",
              "      <th>47</th>\n",
              "      <td>1.825277</td>\n",
              "      <td>3.744561</td>\n",
              "      <td>-0.305234</td>\n",
              "      <td>-0.305234</td>\n",
              "      <td>-0.305234</td>\n",
              "      <td>-0.305234</td>\n",
              "      <td>-0.305234</td>\n",
              "      <td>-0.305234</td>\n",
              "      <td>-0.305234</td>\n",
              "      <td>-0.305234</td>\n",
              "      <td>-0.305234</td>\n",
              "      <td>-0.305234</td>\n",
              "      <td>-0.261248</td>\n",
              "    </tr>\n",
              "    <tr>\n",
              "      <th>48</th>\n",
              "      <td>1.899778</td>\n",
              "      <td>-0.261248</td>\n",
              "      <td>3.204955</td>\n",
              "      <td>-0.305234</td>\n",
              "      <td>-0.305234</td>\n",
              "      <td>-0.305234</td>\n",
              "      <td>-0.305234</td>\n",
              "      <td>-0.305234</td>\n",
              "      <td>-0.305234</td>\n",
              "      <td>-0.305234</td>\n",
              "      <td>-0.305234</td>\n",
              "      <td>-0.305234</td>\n",
              "      <td>-0.261248</td>\n",
              "    </tr>\n",
              "    <tr>\n",
              "      <th>49</th>\n",
              "      <td>1.974280</td>\n",
              "      <td>-0.261248</td>\n",
              "      <td>-0.305234</td>\n",
              "      <td>3.204955</td>\n",
              "      <td>-0.305234</td>\n",
              "      <td>-0.305234</td>\n",
              "      <td>-0.305234</td>\n",
              "      <td>-0.305234</td>\n",
              "      <td>-0.305234</td>\n",
              "      <td>-0.305234</td>\n",
              "      <td>-0.305234</td>\n",
              "      <td>-0.305234</td>\n",
              "      <td>-0.261248</td>\n",
              "    </tr>\n",
              "    <tr>\n",
              "      <th>50</th>\n",
              "      <td>2.048781</td>\n",
              "      <td>-0.261248</td>\n",
              "      <td>-0.305234</td>\n",
              "      <td>-0.305234</td>\n",
              "      <td>3.204955</td>\n",
              "      <td>-0.305234</td>\n",
              "      <td>-0.305234</td>\n",
              "      <td>-0.305234</td>\n",
              "      <td>-0.305234</td>\n",
              "      <td>-0.305234</td>\n",
              "      <td>-0.305234</td>\n",
              "      <td>-0.305234</td>\n",
              "      <td>-0.261248</td>\n",
              "    </tr>\n",
              "    <tr>\n",
              "      <th>51</th>\n",
              "      <td>2.123282</td>\n",
              "      <td>-0.261248</td>\n",
              "      <td>-0.305234</td>\n",
              "      <td>-0.305234</td>\n",
              "      <td>-0.305234</td>\n",
              "      <td>3.204955</td>\n",
              "      <td>-0.305234</td>\n",
              "      <td>-0.305234</td>\n",
              "      <td>-0.305234</td>\n",
              "      <td>-0.305234</td>\n",
              "      <td>-0.305234</td>\n",
              "      <td>-0.305234</td>\n",
              "      <td>-0.261248</td>\n",
              "    </tr>\n",
              "    <tr>\n",
              "      <th>52</th>\n",
              "      <td>2.197783</td>\n",
              "      <td>-0.261248</td>\n",
              "      <td>-0.305234</td>\n",
              "      <td>-0.305234</td>\n",
              "      <td>-0.305234</td>\n",
              "      <td>-0.305234</td>\n",
              "      <td>3.204955</td>\n",
              "      <td>-0.305234</td>\n",
              "      <td>-0.305234</td>\n",
              "      <td>-0.305234</td>\n",
              "      <td>-0.305234</td>\n",
              "      <td>-0.305234</td>\n",
              "      <td>-0.261248</td>\n",
              "    </tr>\n",
              "    <tr>\n",
              "      <th>53</th>\n",
              "      <td>2.272284</td>\n",
              "      <td>-0.261248</td>\n",
              "      <td>-0.305234</td>\n",
              "      <td>-0.305234</td>\n",
              "      <td>-0.305234</td>\n",
              "      <td>-0.305234</td>\n",
              "      <td>-0.305234</td>\n",
              "      <td>3.204955</td>\n",
              "      <td>-0.305234</td>\n",
              "      <td>-0.305234</td>\n",
              "      <td>-0.305234</td>\n",
              "      <td>-0.305234</td>\n",
              "      <td>-0.261248</td>\n",
              "    </tr>\n",
              "    <tr>\n",
              "      <th>54</th>\n",
              "      <td>2.346785</td>\n",
              "      <td>-0.261248</td>\n",
              "      <td>-0.305234</td>\n",
              "      <td>-0.305234</td>\n",
              "      <td>-0.305234</td>\n",
              "      <td>-0.305234</td>\n",
              "      <td>-0.305234</td>\n",
              "      <td>-0.305234</td>\n",
              "      <td>3.204955</td>\n",
              "      <td>-0.305234</td>\n",
              "      <td>-0.305234</td>\n",
              "      <td>-0.305234</td>\n",
              "      <td>-0.261248</td>\n",
              "    </tr>\n",
              "    <tr>\n",
              "      <th>55</th>\n",
              "      <td>2.421286</td>\n",
              "      <td>-0.261248</td>\n",
              "      <td>-0.305234</td>\n",
              "      <td>-0.305234</td>\n",
              "      <td>-0.305234</td>\n",
              "      <td>-0.305234</td>\n",
              "      <td>-0.305234</td>\n",
              "      <td>-0.305234</td>\n",
              "      <td>-0.305234</td>\n",
              "      <td>3.204955</td>\n",
              "      <td>-0.305234</td>\n",
              "      <td>-0.305234</td>\n",
              "      <td>-0.261248</td>\n",
              "    </tr>\n",
              "    <tr>\n",
              "      <th>56</th>\n",
              "      <td>2.495787</td>\n",
              "      <td>-0.261248</td>\n",
              "      <td>-0.305234</td>\n",
              "      <td>-0.305234</td>\n",
              "      <td>-0.305234</td>\n",
              "      <td>-0.305234</td>\n",
              "      <td>-0.305234</td>\n",
              "      <td>-0.305234</td>\n",
              "      <td>-0.305234</td>\n",
              "      <td>-0.305234</td>\n",
              "      <td>3.204955</td>\n",
              "      <td>-0.305234</td>\n",
              "      <td>-0.261248</td>\n",
              "    </tr>\n",
              "    <tr>\n",
              "      <th>57</th>\n",
              "      <td>2.570289</td>\n",
              "      <td>-0.261248</td>\n",
              "      <td>-0.305234</td>\n",
              "      <td>-0.305234</td>\n",
              "      <td>-0.305234</td>\n",
              "      <td>-0.305234</td>\n",
              "      <td>-0.305234</td>\n",
              "      <td>-0.305234</td>\n",
              "      <td>-0.305234</td>\n",
              "      <td>-0.305234</td>\n",
              "      <td>-0.305234</td>\n",
              "      <td>3.204955</td>\n",
              "      <td>-0.261248</td>\n",
              "    </tr>\n",
              "    <tr>\n",
              "      <th>58</th>\n",
              "      <td>2.644790</td>\n",
              "      <td>-0.261248</td>\n",
              "      <td>-0.305234</td>\n",
              "      <td>-0.305234</td>\n",
              "      <td>-0.305234</td>\n",
              "      <td>-0.305234</td>\n",
              "      <td>-0.305234</td>\n",
              "      <td>-0.305234</td>\n",
              "      <td>-0.305234</td>\n",
              "      <td>-0.305234</td>\n",
              "      <td>-0.305234</td>\n",
              "      <td>-0.305234</td>\n",
              "      <td>3.744561</td>\n",
              "    </tr>\n",
              "  </tbody>\n",
              "</table>\n",
              "</div>"
            ],
            "text/plain": [
              "          x0        x1        x2  ...       x10       x11       x12\n",
              "47  1.825277  3.744561 -0.305234  ... -0.305234 -0.305234 -0.261248\n",
              "48  1.899778 -0.261248  3.204955  ... -0.305234 -0.305234 -0.261248\n",
              "49  1.974280 -0.261248 -0.305234  ... -0.305234 -0.305234 -0.261248\n",
              "50  2.048781 -0.261248 -0.305234  ... -0.305234 -0.305234 -0.261248\n",
              "51  2.123282 -0.261248 -0.305234  ... -0.305234 -0.305234 -0.261248\n",
              "52  2.197783 -0.261248 -0.305234  ... -0.305234 -0.305234 -0.261248\n",
              "53  2.272284 -0.261248 -0.305234  ... -0.305234 -0.305234 -0.261248\n",
              "54  2.346785 -0.261248 -0.305234  ... -0.305234 -0.305234 -0.261248\n",
              "55  2.421286 -0.261248 -0.305234  ... -0.305234 -0.305234 -0.261248\n",
              "56  2.495787 -0.261248 -0.305234  ...  3.204955 -0.305234 -0.261248\n",
              "57  2.570289 -0.261248 -0.305234  ... -0.305234  3.204955 -0.261248\n",
              "58  2.644790 -0.261248 -0.305234  ... -0.305234 -0.305234  3.744561\n",
              "\n",
              "[12 rows x 13 columns]"
            ]
          },
          "metadata": {
            "tags": []
          },
          "execution_count": 38
        }
      ]
    },
    {
      "cell_type": "markdown",
      "metadata": {
        "id": "JJIbkfGzlX0b"
      },
      "source": [
        "#Neural network with two fully connected hidden layers, each with 64 nodes.\n",
        "**The model uses RMSprop optimizer for optimizing by minimizing Mean Squared Error loss.**"
      ]
    },
    {
      "cell_type": "code",
      "metadata": {
        "id": "c26juK7ZG8j-"
      },
      "source": [
        "def build_model():\n",
        "  model = keras.Sequential([\n",
        "    layers.Dense(64, activation='relu', input_shape=[len(train_dataset.keys())]),\n",
        "    layers.Dense(64, activation='relu'),\n",
        "    layers.Dense(1)\n",
        "  ])\n",
        "\n",
        "  optimizer = tf.keras.optimizers.RMSprop(0.001)\n",
        "\n",
        "  model.compile(loss='mse',\n",
        "                optimizer=optimizer,\n",
        "                metrics=['mae', 'mse'])\n",
        "  return model"
      ],
      "execution_count": null,
      "outputs": []
    },
    {
      "cell_type": "code",
      "metadata": {
        "id": "cGbPb-PHGbhs"
      },
      "source": [
        "model = build_model()"
      ],
      "execution_count": null,
      "outputs": []
    },
    {
      "cell_type": "code",
      "metadata": {
        "id": "sD7qHCmNIOY0",
        "outputId": "5c5ad562-7dcb-4806-e3af-fc9c297e9b40",
        "colab": {
          "base_uri": "https://localhost:8080/",
          "height": 102
        }
      },
      "source": [
        "# Display training progress by printing a single dot for each completed epoch\n",
        "class PrintDot(keras.callbacks.Callback):\n",
        "  def on_epoch_end(self, epoch, logs):\n",
        "    if epoch % 100 == 0: print('')\n",
        "    print('.', end='')\n",
        "\n",
        "EPOCHS = 1000\n",
        "\n",
        "model = build_model()\n",
        "\n",
        "early_stop = keras.callbacks.EarlyStopping(monitor='val_loss', patience=10)\n",
        "\n",
        "history = model.fit(normed_train_data, train_labels, epochs=EPOCHS,\n",
        "                    validation_split = 0.2, verbose=0, callbacks=[early_stop, PrintDot()])\n"
      ],
      "execution_count": null,
      "outputs": [
        {
          "output_type": "stream",
          "text": [
            "WARNING:tensorflow:Falling back from v2 loop because of error: Failed to find data adapter that can handle input: <class 'pandas.core.frame.DataFrame'>, <class 'NoneType'>\n",
            "\n",
            "....................................................................................................\n",
            "....................................................................................................\n",
            "......................................................................"
          ],
          "name": "stdout"
        }
      ]
    },
    {
      "cell_type": "code",
      "metadata": {
        "id": "B6XriGbVPh2t",
        "outputId": "9433ccd8-9fab-4b9c-afbe-f71c85849ded",
        "colab": {
          "base_uri": "https://localhost:8080/",
          "height": 549
        }
      },
      "source": [
        "def plot_history(history):\n",
        "  hist = pd.DataFrame(history.history)\n",
        "  hist['epoch'] = history.epoch\n",
        "\n",
        "  plt.figure()\n",
        "  plt.xlabel('Epoch')\n",
        "  plt.ylabel('Mean Abs Error [MPG]')\n",
        "  plt.plot(hist['epoch'], hist['mae'],\n",
        "           label='Train Error')\n",
        "  plt.plot(hist['epoch'], hist['val_mae'],\n",
        "           label = 'Val Error')\n",
        "  plt.ylim([0,1000])\n",
        "  plt.legend()\n",
        "\n",
        "  plt.figure()\n",
        "  plt.xlabel('Epoch')\n",
        "  plt.ylabel('Mean Square Error [$MPG^2$]')\n",
        "  plt.plot(hist['epoch'], hist['mse'],\n",
        "           label='Train Error')\n",
        "  plt.plot(hist['epoch'], hist['val_mse'],\n",
        "           label = 'Val Error')\n",
        "  plt.ylim([0,1000000])\n",
        "  plt.legend()\n",
        "  plt.show()\n",
        "\n",
        "\n",
        "plot_history(history)"
      ],
      "execution_count": null,
      "outputs": [
        {
          "output_type": "display_data",
          "data": {
            "image/png": "[encoded data removed]",
            "text/plain": [
              "<Figure size 432x288 with 1 Axes>"
            ]
          },
          "metadata": {
            "tags": []
          }
        },
        {
          "output_type": "display_data",
          "data": {
            "image/png": "[encoded data removed]",
            "text/plain": [
              "<Figure size 432x288 with 1 Axes>"
            ]
          },
          "metadata": {
            "tags": []
          }
        }
      ]
    },
    {
      "cell_type": "code",
      "metadata": {
        "id": "jl_yNr5n1kms",
        "outputId": "e8a8b889-e89f-43b3-8bac-75f98a1fc90b",
        "colab": {
          "base_uri": "https://localhost:8080/",
          "height": 68
        }
      },
      "source": [
        "loss, mae, mse = model.evaluate(normed_test_data, test_labels, verbose=2)\n",
        "\n",
        "print(\"Testing set Mean Abs Error: {:5.2f} MPG\".format(mae))"
      ],
      "execution_count": null,
      "outputs": [
        {
          "output_type": "stream",
          "text": [
            "WARNING:tensorflow:Falling back from v2 loop because of error: Failed to find data adapter that can handle input: <class 'pandas.core.frame.DataFrame'>, <class 'NoneType'>\n",
            "12/12 - 0s - loss: 260316.9219 - mae: 377.5327 - mse: 260316.9219\n",
            "Testing set Mean Abs Error: 377.53 MPG\n"
          ],
          "name": "stdout"
        }
      ]
    },
    {
      "cell_type": "code",
      "metadata": {
        "id": "Xe7RXH3N3CWU",
        "outputId": "fed5e4e5-285c-4a45-b251-84983ba2951e",
        "colab": {
          "base_uri": "https://localhost:8080/",
          "height": 300
        }
      },
      "source": [
        "test_predictions = model.predict(normed_test_data).flatten()\n",
        "\n",
        "a = plt.axes(aspect='equal')\n",
        "plt.scatter(test_labels, test_predictions)\n",
        "plt.xlabel('True Values [MPG]')\n",
        "plt.ylabel('Predictions [MPG]')\n",
        "lims = [0, 2000]\n",
        "plt.xlim(lims)\n",
        "plt.ylim(lims)\n",
        "_ = plt.plot(lims, lims)\n"
      ],
      "execution_count": null,
      "outputs": [
        {
          "output_type": "stream",
          "text": [
            "WARNING:tensorflow:Falling back from v2 loop because of error: Failed to find data adapter that can handle input: <class 'pandas.core.frame.DataFrame'>, <class 'NoneType'>\n"
          ],
          "name": "stdout"
        },
        {
          "output_type": "display_data",
          "data": {
            "image/png": "[encoded data removed]",
            "text/plain": [
              "<Figure size 432x288 with 1 Axes>"
            ]
          },
          "metadata": {
            "tags": []
          }
        }
      ]
    },
    {
      "cell_type": "markdown",
      "metadata": {
        "id": "hYSBBGsvn9fc"
      },
      "source": [
        "**Prediction**"
      ]
    },
    {
      "cell_type": "code",
      "metadata": {
        "id": "Wre5aw_jibyR",
        "outputId": "0a4ec66c-17d2-4f85-fcf9-4d0290b31386",
        "colab": {
          "base_uri": "https://localhost:8080/",
          "height": 68
        }
      },
      "source": [
        "test_predictions"
      ],
      "execution_count": null,
      "outputs": [
        {
          "output_type": "execute_result",
          "data": {
            "text/plain": [
              "array([478.2986 , 424.98697, 583.36346, 461.38846, 464.08316, 676.104  ,\n",
              "       442.115  , 442.90518, 397.4471 , 620.42615, 602.6929 , 382.1599 ],\n",
              "      dtype=float32)"
            ]
          },
          "metadata": {
            "tags": []
          },
          "execution_count": 45
        }
      ]
    },
    {
      "cell_type": "markdown",
      "metadata": {
        "id": "krhW-46OnTLE"
      },
      "source": [
        "**Reference: This work contains code snippets from https://www.tensorflow.org/tutorials/keras/regression**"
      ]
    }
  ]
}